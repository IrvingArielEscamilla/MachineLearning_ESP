{
 "cells": [
  {
   "cell_type": "code",
   "execution_count": 1,
   "metadata": {},
   "outputs": [],
   "source": [
    "import warnings\n",
    "warnings.simplefilter(\"ignore\")"
   ]
  },
  {
   "cell_type": "code",
   "execution_count": 2,
   "metadata": {},
   "outputs": [],
   "source": [
    "%matplotlib inline\n",
    "import numpy as np\n",
    "import pandas as pd\n",
    "import matplotlib.pyplot as plt"
   ]
  },
  {
   "cell_type": "markdown",
   "metadata": {},
   "source": [
    "# Metodos de evaluacion"
   ]
  },
  {
   "cell_type": "markdown",
   "metadata": {},
   "source": [
    "Por ahora hemos visto que :\n",
    "    Se necesita separar de forma aleatoria en datos de entrenamiento y testeo para poder evaluar performance del algoritmo\n",
    "    Existen diversas metricas para evaluar rendimiento y elegimos la nuestra segun las caracteristicas de nuestro problema\n",
    "    Es util apoyar la evaluacion con visualizaciones de errores, como por ejemplo scatterplots de residuales.\n",
    "Sin embargo nuestro metodo hasta ahora tiene falla. Este depende de la forma en que fueron elegidos nuestros datos de forma aleatoria:\n",
    "    Podemos tener suerte y caer en train set y test set que sea ideal para nuestro modelo.\n",
    "    Podemos tener pesima performance con esa separacion de datos pero no en otros.\n",
    "    "
   ]
  },
  {
   "cell_type": "markdown",
   "metadata": {},
   "source": [
    "Controlar la aleatoriedada en train_test_split"
   ]
  },
  {
   "cell_type": "code",
   "execution_count": 4,
   "metadata": {},
   "outputs": [],
   "source": [
    "X = pd.read_csv('/home/algoritmia/Dropbox/ml_intro/vol/intermediate_results/intermediate_results/X_opening.csv')\n",
    "y = X['worldwide_gross']\n",
    "X = X.drop('worldwide_gross',axis=1)"
   ]
  },
  {
   "cell_type": "code",
   "execution_count": 20,
   "metadata": {},
   "outputs": [
    {
     "data": {
      "text/plain": [
       "2221"
      ]
     },
     "execution_count": 20,
     "metadata": {},
     "output_type": "execute_result"
    }
   ],
   "source": [
    "len(X)"
   ]
  },
  {
   "cell_type": "code",
   "execution_count": 18,
   "metadata": {},
   "outputs": [],
   "source": [
    "from sklearn.model_selection import train_test_split\n",
    "X_train, X_test,  y_train, y_test = train_test_split(X,y, random_state=1)"
   ]
  },
  {
   "cell_type": "code",
   "execution_count": 10,
   "metadata": {},
   "outputs": [],
   "source": [
    "X2_train, X2_test,  y2_train, y2_test = train_test_split(X,y, random_state=1)"
   ]
  },
  {
   "cell_type": "code",
   "execution_count": 11,
   "metadata": {},
   "outputs": [
    {
     "data": {
      "text/plain": [
       "True"
      ]
     },
     "execution_count": 11,
     "metadata": {},
     "output_type": "execute_result"
    }
   ],
   "source": [
    "pd.DataFrame.equals(X_train,X2_train)"
   ]
  },
  {
   "cell_type": "code",
   "execution_count": 7,
   "metadata": {},
   "outputs": [
    {
     "data": {
      "text/html": [
       "<div>\n",
       "<style scoped>\n",
       "    .dataframe tbody tr th:only-of-type {\n",
       "        vertical-align: middle;\n",
       "    }\n",
       "\n",
       "    .dataframe tbody tr th {\n",
       "        vertical-align: top;\n",
       "    }\n",
       "\n",
       "    .dataframe thead th {\n",
       "        text-align: right;\n",
       "    }\n",
       "</style>\n",
       "<table border=\"1\" class=\"dataframe\">\n",
       "  <thead>\n",
       "    <tr style=\"text-align: right;\">\n",
       "      <th></th>\n",
       "      <th>production_budget</th>\n",
       "      <th>title_year</th>\n",
       "      <th>aspect_ratio</th>\n",
       "      <th>duration.1</th>\n",
       "      <th>cast_total_facebook_likes</th>\n",
       "      <th>budget</th>\n",
       "      <th>imdb_score</th>\n",
       "      <th>opening_gross</th>\n",
       "      <th>screens</th>\n",
       "    </tr>\n",
       "  </thead>\n",
       "  <tbody>\n",
       "    <tr>\n",
       "      <th>971</th>\n",
       "      <td>40000000.0</td>\n",
       "      <td>1998.0</td>\n",
       "      <td>2.35</td>\n",
       "      <td>108.0</td>\n",
       "      <td>8610.0</td>\n",
       "      <td>4.000000e+07</td>\n",
       "      <td>6.1</td>\n",
       "      <td>14047592.0</td>\n",
       "      <td>2539.0</td>\n",
       "    </tr>\n",
       "    <tr>\n",
       "      <th>1078</th>\n",
       "      <td>37000000.0</td>\n",
       "      <td>2008.0</td>\n",
       "      <td>1.85</td>\n",
       "      <td>96.0</td>\n",
       "      <td>36093.0</td>\n",
       "      <td>3.700000e+07</td>\n",
       "      <td>7.0</td>\n",
       "      <td>19128001.0</td>\n",
       "      <td>2651.0</td>\n",
       "    </tr>\n",
       "    <tr>\n",
       "      <th>1699</th>\n",
       "      <td>20000000.0</td>\n",
       "      <td>2008.0</td>\n",
       "      <td>2.35</td>\n",
       "      <td>115.0</td>\n",
       "      <td>10507.0</td>\n",
       "      <td>5.329615e+07</td>\n",
       "      <td>6.8</td>\n",
       "      <td>248847.0</td>\n",
       "      <td>14.0</td>\n",
       "    </tr>\n",
       "    <tr>\n",
       "      <th>570</th>\n",
       "      <td>61000000.0</td>\n",
       "      <td>2013.0</td>\n",
       "      <td>2.35</td>\n",
       "      <td>109.0</td>\n",
       "      <td>20148.0</td>\n",
       "      <td>6.100000e+07</td>\n",
       "      <td>6.7</td>\n",
       "      <td>27059130.0</td>\n",
       "      <td>3025.0</td>\n",
       "    </tr>\n",
       "    <tr>\n",
       "      <th>343</th>\n",
       "      <td>85000000.0</td>\n",
       "      <td>1998.0</td>\n",
       "      <td>1.85</td>\n",
       "      <td>178.0</td>\n",
       "      <td>23950.0</td>\n",
       "      <td>9.000000e+07</td>\n",
       "      <td>7.1</td>\n",
       "      <td>15017995.0</td>\n",
       "      <td>2503.0</td>\n",
       "    </tr>\n",
       "  </tbody>\n",
       "</table>\n",
       "</div>"
      ],
      "text/plain": [
       "      production_budget  title_year  aspect_ratio  duration.1  \\\n",
       "971          40000000.0      1998.0          2.35       108.0   \n",
       "1078         37000000.0      2008.0          1.85        96.0   \n",
       "1699         20000000.0      2008.0          2.35       115.0   \n",
       "570          61000000.0      2013.0          2.35       109.0   \n",
       "343          85000000.0      1998.0          1.85       178.0   \n",
       "\n",
       "      cast_total_facebook_likes        budget  imdb_score  opening_gross  \\\n",
       "971                      8610.0  4.000000e+07         6.1     14047592.0   \n",
       "1078                    36093.0  3.700000e+07         7.0     19128001.0   \n",
       "1699                    10507.0  5.329615e+07         6.8       248847.0   \n",
       "570                     20148.0  6.100000e+07         6.7     27059130.0   \n",
       "343                     23950.0  9.000000e+07         7.1     15017995.0   \n",
       "\n",
       "      screens  \n",
       "971    2539.0  \n",
       "1078   2651.0  \n",
       "1699     14.0  \n",
       "570    3025.0  \n",
       "343    2503.0  "
      ]
     },
     "execution_count": 7,
     "metadata": {},
     "output_type": "execute_result"
    }
   ],
   "source": [
    "X_train.head()"
   ]
  },
  {
   "cell_type": "code",
   "execution_count": 12,
   "metadata": {},
   "outputs": [
    {
     "data": {
      "text/html": [
       "<div>\n",
       "<style scoped>\n",
       "    .dataframe tbody tr th:only-of-type {\n",
       "        vertical-align: middle;\n",
       "    }\n",
       "\n",
       "    .dataframe tbody tr th {\n",
       "        vertical-align: top;\n",
       "    }\n",
       "\n",
       "    .dataframe thead th {\n",
       "        text-align: right;\n",
       "    }\n",
       "</style>\n",
       "<table border=\"1\" class=\"dataframe\">\n",
       "  <thead>\n",
       "    <tr style=\"text-align: right;\">\n",
       "      <th></th>\n",
       "      <th>production_budget</th>\n",
       "      <th>title_year</th>\n",
       "      <th>aspect_ratio</th>\n",
       "      <th>duration.1</th>\n",
       "      <th>cast_total_facebook_likes</th>\n",
       "      <th>budget</th>\n",
       "      <th>imdb_score</th>\n",
       "      <th>opening_gross</th>\n",
       "      <th>screens</th>\n",
       "    </tr>\n",
       "  </thead>\n",
       "  <tbody>\n",
       "    <tr>\n",
       "      <th>1724</th>\n",
       "      <td>20000000.0</td>\n",
       "      <td>2004.0</td>\n",
       "      <td>1.85</td>\n",
       "      <td>99.0</td>\n",
       "      <td>1189.0</td>\n",
       "      <td>40000000.0</td>\n",
       "      <td>4.8</td>\n",
       "      <td>6160886.0</td>\n",
       "      <td>2445.0</td>\n",
       "    </tr>\n",
       "    <tr>\n",
       "      <th>2027</th>\n",
       "      <td>14000000.0</td>\n",
       "      <td>1998.0</td>\n",
       "      <td>2.35</td>\n",
       "      <td>99.0</td>\n",
       "      <td>3500.0</td>\n",
       "      <td>14000000.0</td>\n",
       "      <td>5.5</td>\n",
       "      <td>10515444.0</td>\n",
       "      <td>2257.0</td>\n",
       "    </tr>\n",
       "    <tr>\n",
       "      <th>1843</th>\n",
       "      <td>18000000.0</td>\n",
       "      <td>2008.0</td>\n",
       "      <td>2.35</td>\n",
       "      <td>98.0</td>\n",
       "      <td>2215.0</td>\n",
       "      <td>18000000.0</td>\n",
       "      <td>5.1</td>\n",
       "      <td>300000.0</td>\n",
       "      <td>482.0</td>\n",
       "    </tr>\n",
       "    <tr>\n",
       "      <th>470</th>\n",
       "      <td>72000000.0</td>\n",
       "      <td>2001.0</td>\n",
       "      <td>2.35</td>\n",
       "      <td>116.0</td>\n",
       "      <td>14780.0</td>\n",
       "      <td>72000000.0</td>\n",
       "      <td>4.5</td>\n",
       "      <td>12174504.0</td>\n",
       "      <td>2905.0</td>\n",
       "    </tr>\n",
       "    <tr>\n",
       "      <th>1225</th>\n",
       "      <td>31000000.0</td>\n",
       "      <td>2012.0</td>\n",
       "      <td>2.35</td>\n",
       "      <td>138.0</td>\n",
       "      <td>20952.0</td>\n",
       "      <td>31000000.0</td>\n",
       "      <td>7.3</td>\n",
       "      <td>24900566.0</td>\n",
       "      <td>1884.0</td>\n",
       "    </tr>\n",
       "  </tbody>\n",
       "</table>\n",
       "</div>"
      ],
      "text/plain": [
       "      production_budget  title_year  aspect_ratio  duration.1  \\\n",
       "1724         20000000.0      2004.0          1.85        99.0   \n",
       "2027         14000000.0      1998.0          2.35        99.0   \n",
       "1843         18000000.0      2008.0          2.35        98.0   \n",
       "470          72000000.0      2001.0          2.35       116.0   \n",
       "1225         31000000.0      2012.0          2.35       138.0   \n",
       "\n",
       "      cast_total_facebook_likes      budget  imdb_score  opening_gross  \\\n",
       "1724                     1189.0  40000000.0         4.8      6160886.0   \n",
       "2027                     3500.0  14000000.0         5.5     10515444.0   \n",
       "1843                     2215.0  18000000.0         5.1       300000.0   \n",
       "470                     14780.0  72000000.0         4.5     12174504.0   \n",
       "1225                    20952.0  31000000.0         7.3     24900566.0   \n",
       "\n",
       "      screens  \n",
       "1724   2445.0  \n",
       "2027   2257.0  \n",
       "1843    482.0  \n",
       "470    2905.0  \n",
       "1225   1884.0  "
      ]
     },
     "execution_count": 12,
     "metadata": {},
     "output_type": "execute_result"
    }
   ],
   "source": [
    "X2_train.head()"
   ]
  },
  {
   "cell_type": "code",
   "execution_count": 13,
   "metadata": {},
   "outputs": [
    {
     "data": {
      "text/plain": [
       "array([0.59316596, 0.68931527, 0.55383855, 0.18147236, 0.23040894])"
      ]
     },
     "execution_count": 13,
     "metadata": {},
     "output_type": "execute_result"
    }
   ],
   "source": [
    "from sklearn.model_selection import cross_val_score\n",
    "from sklearn.linear_model import Lasso\n",
    "\n",
    "scores = cross_val_score(Lasso(),X,y,cv=5,scoring='r2')\n",
    "scores"
   ]
  },
  {
   "cell_type": "code",
   "execution_count": 14,
   "metadata": {},
   "outputs": [
    {
     "data": {
      "text/plain": [
       "0.4496402174579182"
      ]
     },
     "execution_count": 14,
     "metadata": {},
     "output_type": "execute_result"
    }
   ],
   "source": [
    "scores.mean()"
   ]
  },
  {
   "cell_type": "code",
   "execution_count": 16,
   "metadata": {},
   "outputs": [
    {
     "data": {
      "text/plain": [
       "0.7926190294963362"
      ]
     },
     "execution_count": 16,
     "metadata": {},
     "output_type": "execute_result"
    }
   ],
   "source": [
    "Lasso().fit(X_train,y_train).score(X_test,y_test)"
   ]
  },
  {
   "cell_type": "markdown",
   "metadata": {},
   "source": [
    "# Overfitting o Underfitting"
   ]
  },
  {
   "cell_type": "markdown",
   "metadata": {},
   "source": [
    "Recuerde que para saber si estamos en overfitting o en underfittin necesitamos los scores de entrenamiento"
   ]
  },
  {
   "cell_type": "code",
   "execution_count": 21,
   "metadata": {},
   "outputs": [
    {
     "name": "stdout",
     "output_type": "stream",
     "text": [
      "Requirement already up-to-date: scikit-learn in /home/algoritmia/anaconda3/lib/python3.6/site-packages (0.20.0)\n",
      "Requirement already satisfied, skipping upgrade: numpy>=1.8.2 in /home/algoritmia/anaconda3/lib/python3.6/site-packages (from scikit-learn) (1.14.3)\n",
      "Requirement already satisfied, skipping upgrade: scipy>=0.13.3 in /home/algoritmia/anaconda3/lib/python3.6/site-packages (from scikit-learn) (1.1.0)\n",
      "\u001b[33mYou are using pip version 18.0, however version 18.1 is available.\n",
      "You should consider upgrading via the 'pip install --upgrade pip' command.\u001b[0m\n"
     ]
    }
   ],
   "source": [
    "!pip install --upgrade scikit-learn"
   ]
  },
  {
   "cell_type": "code",
   "execution_count": 22,
   "metadata": {},
   "outputs": [
    {
     "data": {
      "text/plain": [
       "{'fit_time': array([0.01208949, 0.08523083, 0.04319882, 0.03189564, 0.02254868]),\n",
       " 'score_time': array([0.00857377, 0.00948811, 0.00675011, 0.00050688, 0.00053334]),\n",
       " 'test_score': array([0.59316596, 0.68931527, 0.55383855, 0.18147236, 0.23040894]),\n",
       " 'train_score': array([0.68988012, 0.77004932, 0.76604995, 0.76123379, 0.75837599])}"
      ]
     },
     "execution_count": 22,
     "metadata": {},
     "output_type": "execute_result"
    }
   ],
   "source": [
    "from sklearn.model_selection import cross_validate\n",
    "results = cross_validate(Lasso(),X,y,return_train_score=True,cv=5)\n",
    "results"
   ]
  },
  {
   "cell_type": "code",
   "execution_count": 23,
   "metadata": {},
   "outputs": [
    {
     "name": "stdout",
     "output_type": "stream",
     "text": [
      "0.7491178363039035\n",
      "0.4496402174579182\n"
     ]
    }
   ],
   "source": [
    "test_scores = results['test_score']\n",
    "train_scores = results['train_score']\n",
    "print(np.mean(train_scores))\n",
    "print(np.mean(test_scores))"
   ]
  },
  {
   "cell_type": "markdown",
   "metadata": {},
   "source": [
    "Tenemos baias por que buscaremos modelos mas complejos"
   ]
  },
  {
   "cell_type": "markdown",
   "metadata": {},
   "source": [
    "# Validation Curves y Learning Curves"
   ]
  },
  {
   "cell_type": "code",
   "execution_count": 25,
   "metadata": {},
   "outputs": [
    {
     "data": {
      "text/plain": [
       "{'fit_time': array([0.00916147, 0.00257921, 0.00210547, 0.00645161, 0.00240779]),\n",
       " 'score_time': array([0.01210237, 0.0171771 , 0.01638031, 0.01232433, 0.00425267]),\n",
       " 'test_score': array([0.3647382 , 0.59274527, 0.21545625, 0.15143495, 0.25635077]),\n",
       " 'train_score': array([0.73553883, 0.78647652, 0.78386739, 0.77876542, 0.77477287])}"
      ]
     },
     "execution_count": 25,
     "metadata": {},
     "output_type": "execute_result"
    }
   ],
   "source": [
    "from sklearn.neighbors import KNeighborsRegressor\n",
    "cross_validate(KNeighborsRegressor(),X,y,cv=5)"
   ]
  },
  {
   "cell_type": "code",
   "execution_count": 26,
   "metadata": {},
   "outputs": [
    {
     "data": {
      "text/plain": [
       "{'fit_time': array([0.00834107, 0.00797677, 0.02349043, 0.00355077, 0.00216818]),\n",
       " 'score_time': array([0.01306987, 0.01214218, 0.01233101, 0.01400352, 0.01766229]),\n",
       " 'test_score': array([0.23553954, 0.61921355, 0.24881301, 0.1209604 , 0.2466995 ]),\n",
       " 'train_score': array([0.67830521, 0.76365722, 0.76231726, 0.75701303, 0.75061953])}"
      ]
     },
     "execution_count": 26,
     "metadata": {},
     "output_type": "execute_result"
    }
   ],
   "source": [
    "cross_validate(KNeighborsRegressor(n_neighbors=10),X,y,cv=5)"
   ]
  },
  {
   "cell_type": "code",
   "execution_count": 36,
   "metadata": {},
   "outputs": [
    {
     "data": {
      "text/plain": [
       "(24,)"
      ]
     },
     "execution_count": 36,
     "metadata": {},
     "output_type": "execute_result"
    }
   ],
   "source": [
    "n = np.arange(2,50,2)\n",
    "n.shape"
   ]
  },
  {
   "cell_type": "code",
   "execution_count": 37,
   "metadata": {},
   "outputs": [],
   "source": [
    "from sklearn.model_selection import validation_curve\n",
    "\n",
    "train_scores, test_scores = validation_curve(KNeighborsRegressor(),X,y,param_name='n_neighbors',param_range=n,cv=5)"
   ]
  },
  {
   "cell_type": "code",
   "execution_count": 39,
   "metadata": {},
   "outputs": [
    {
     "data": {
      "text/plain": [
       "array([0.86831591, 0.79120817, 0.7593398 , 0.7498298 , 0.74238245,\n",
       "       0.73284018, 0.72586058, 0.71779833, 0.71281982, 0.70976325,\n",
       "       0.70723469, 0.70502429, 0.70174649, 0.69741543, 0.69379214,\n",
       "       0.69163113, 0.68955146, 0.6862285 , 0.68321376, 0.68018032,\n",
       "       0.67885534, 0.67522056, 0.67135123, 0.66953759])"
      ]
     },
     "execution_count": 39,
     "metadata": {},
     "output_type": "execute_result"
    }
   ],
   "source": [
    "np.mean(train_scores,axis=1)"
   ]
  },
  {
   "cell_type": "code",
   "execution_count": 40,
   "metadata": {},
   "outputs": [
    {
     "data": {
      "text/plain": [
       "(24,)"
      ]
     },
     "execution_count": 40,
     "metadata": {},
     "output_type": "execute_result"
    }
   ],
   "source": [
    "n.shape\n"
   ]
  },
  {
   "cell_type": "code",
   "execution_count": 42,
   "metadata": {},
   "outputs": [
    {
     "data": {
      "text/plain": [
       "([<matplotlib.axis.XTick at 0x7fafaf69c780>,\n",
       "  <matplotlib.axis.XTick at 0x7fafaf69c0b8>,\n",
       "  <matplotlib.axis.XTick at 0x7fafaf690dd8>,\n",
       "  <matplotlib.axis.XTick at 0x7fafaf6c42e8>,\n",
       "  <matplotlib.axis.XTick at 0x7fafaf6c47b8>,\n",
       "  <matplotlib.axis.XTick at 0x7fafaf6c4c88>,\n",
       "  <matplotlib.axis.XTick at 0x7fafaf64a198>,\n",
       "  <matplotlib.axis.XTick at 0x7fafaf64a668>,\n",
       "  <matplotlib.axis.XTick at 0x7fafaf64ab38>,\n",
       "  <matplotlib.axis.XTick at 0x7fafaf6530b8>,\n",
       "  <matplotlib.axis.XTick at 0x7fafaf64afd0>,\n",
       "  <matplotlib.axis.XTick at 0x7fafaf64a240>,\n",
       "  <matplotlib.axis.XTick at 0x7fafaf6c4908>,\n",
       "  <matplotlib.axis.XTick at 0x7fafaf653a58>,\n",
       "  <matplotlib.axis.XTick at 0x7fafaf653f60>,\n",
       "  <matplotlib.axis.XTick at 0x7fafaf65c4a8>,\n",
       "  <matplotlib.axis.XTick at 0x7fafaf65c9b0>,\n",
       "  <matplotlib.axis.XTick at 0x7fafaf65ceb8>,\n",
       "  <matplotlib.axis.XTick at 0x7fafaf663400>,\n",
       "  <matplotlib.axis.XTick at 0x7fafaf663908>,\n",
       "  <matplotlib.axis.XTick at 0x7fafaf65cf98>,\n",
       "  <matplotlib.axis.XTick at 0x7fafaf653358>,\n",
       "  <matplotlib.axis.XTick at 0x7fafaf663710>,\n",
       "  <matplotlib.axis.XTick at 0x7fafaf66d198>],\n",
       " <a list of 24 Text xticklabel objects>)"
      ]
     },
     "execution_count": 42,
     "metadata": {},
     "output_type": "execute_result"
    },
    {
     "data": {
      "image/png": "[encoded data removed]",
      "text/plain": [
       "<Figure size 432x288 with 1 Axes>"
      ]
     },
     "metadata": {},
     "output_type": "display_data"
    }
   ],
   "source": [
    "plt.plot(np.mean(train_scores,axis=1))\n",
    "plt.plot(np.mean(test_scores,axis=1))\n",
    "plt.xticks(np.arange(24),n)"
   ]
  },
  {
   "cell_type": "code",
   "execution_count": 43,
   "metadata": {},
   "outputs": [
    {
     "data": {
      "text/plain": [
       "Lasso(alpha=1.0, copy_X=True, fit_intercept=True, max_iter=1000,\n",
       "   normalize=False, positive=False, precompute=False, random_state=None,\n",
       "   selection='cyclic', tol=0.0001, warm_start=False)"
      ]
     },
     "execution_count": 43,
     "metadata": {},
     "output_type": "execute_result"
    }
   ],
   "source": [
    "Lasso()"
   ]
  },
  {
   "cell_type": "code",
   "execution_count": 47,
   "metadata": {},
   "outputs": [],
   "source": [
    "from sklearn.model_selection import learning_curve\n",
    "lc = learning_curve(KNeighborsRegressor(n_neighbors=6),X,y,cv=5)\n",
    "samples,train,test = lc[0],lc[1],lc[2]"
   ]
  },
  {
   "cell_type": "code",
   "execution_count": 50,
   "metadata": {},
   "outputs": [
    {
     "data": {
      "text/plain": [
       "[<matplotlib.lines.Line2D at 0x7fafaf5699e8>]"
      ]
     },
     "execution_count": 50,
     "metadata": {},
     "output_type": "execute_result"
    },
    {
     "data": {
      "image/png": "[encoded data removed]",
      "text/plain": [
       "<Figure size 432x288 with 1 Axes>"
      ]
     },
     "metadata": {},
     "output_type": "display_data"
    }
   ],
   "source": [
    "plt.plot(samples[1:],np.mean(train,axis=1)[1:])\n",
    "plt.plot(samples[1:],np.mean(test,axis=1)[1:])"
   ]
  },
  {
   "cell_type": "code",
   "execution_count": null,
   "metadata": {},
   "outputs": [],
   "source": []
  }
 ],
 "metadata": {
  "kernelspec": {
   "display_name": "Python 3",
   "language": "python",
   "name": "python3"
  },
  "language_info": {
   "codemirror_mode": {
    "name": "ipython",
    "version": 3
   },
   "file_extension": ".py",
   "mimetype": "text/x-python",
   "name": "python",
   "nbconvert_exporter": "python",
   "pygments_lexer": "ipython3",
   "version": "3.6.5"
  }
 },
 "nbformat": 4,
 "nbformat_minor": 2
}
